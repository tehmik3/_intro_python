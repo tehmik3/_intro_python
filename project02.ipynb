{
  "nbformat": 4,
  "nbformat_minor": 0,
  "metadata": {
    "colab": {
      "private_outputs": true,
      "provenance": [],
      "authorship_tag": "ABX9TyND+lCsnPDnHolmz/MwsL9T",
      "include_colab_link": true
    },
    "kernelspec": {
      "name": "python3",
      "display_name": "Python 3"
    },
    "language_info": {
      "name": "python"
    }
  },
  "cells": [
    {
      "cell_type": "markdown",
      "metadata": {
        "id": "view-in-github",
        "colab_type": "text"
      },
      "source": [
        "<a href=\"https://colab.research.google.com/github/tehmik3/_intro_python/blob/main/project02.ipynb\" target=\"_parent\"><img src=\"https://colab.research.google.com/assets/colab-badge.svg\" alt=\"Open In Colab\"/></a>"
      ]
    },
    {
      "cell_type": "code",
      "execution_count": null,
      "metadata": {
        "id": "QP45jsVT01zx"
      },
      "outputs": [],
      "source": [
        "import random\n",
        "print(\"01_dicesimulator\")\n",
        "\n",
        "# Function to simulate rolling two dice\n",
        "def roll_dice():\n",
        "  die1:int = random.randint(1,5)\n",
        "  die2:int = random.randint(1,5)\n",
        "  total:int = die1 + die2\n",
        "  print(f\"Sum of two dies: {total}\")\n",
        "\n",
        "def main():\n",
        "  die1:int = 8\n",
        "  print(\"die1 in main() start as: \" + str(die1))\n",
        "  roll_dice()\n",
        "  roll_dice()                       # Simulate rolling two dice three times\n",
        "  roll_dice()\n",
        "  print(\"die1 in main() end as: \" + str(die1))\n",
        "\n",
        "if __name__ == \"__main__\":\n",
        "  main()\n"
      ]
    },
    {
      "cell_type": "code",
      "source": [
        "print(\"02_e=mc2\")\n",
        "# the speed of light (in meters per second)\n",
        "C = 299792458  # m/s\n",
        "\n",
        "# Function to calculate energy\n",
        "def calculate_energy():\n",
        "  c:float = 299792458\n",
        "\n",
        "# Ask the user for the mass in kilograms\n",
        "  m:float = float(input(\"Enter kilos of mass: \"))\n",
        "  print(\"e = m * C^2\")      # Einstein's mass-energy equivalence formula\n",
        "  print(\"Mass =\" + str(m) + \"kg\")\n",
        "  print(\"c =\" + str(c) + \"m/s\")\n",
        "  print(\"e =\" + str(m * c ** 2)+ \"joules\")\n",
        "\n",
        "if __name__ == \"__main__\":\n",
        "  calculate_energy()\n"
      ],
      "metadata": {
        "id": "AZBaY-7u6sI-"
      },
      "execution_count": null,
      "outputs": []
    },
    {
      "cell_type": "code",
      "source": [
        "print(\"03_feet_to_inches\")\n",
        "\n",
        "inch: int = 12\n",
        "\n",
        "def foot():\n",
        "  feet = float(input(\"Enter number of feet and i will convert into inches: \"))\n",
        "  inches = feet * 12      # Convert feet to inches\n",
        "  print(f\"{feet} feet is equal to {inches} inches.\")  # Print the result\n",
        "\n",
        "if __name__ == \"__main__\":\n",
        "  foot()\n"
      ],
      "metadata": {
        "id": "iWz81v4VCCGm"
      },
      "execution_count": null,
      "outputs": []
    },
    {
      "cell_type": "code",
      "source": [
        "import math\n",
        "print(\"04_pythagorean_theorem\")\n",
        "\n",
        "\n",
        "# Ask the user for the lengths of the two perpendicular sides (AB and AC)\n",
        "def triangle():\n",
        "  ab:float = float(input(\"Enter the length of side ab: \"))\n",
        "  ac:float = float(input(\"Enter the length of side ac: \"))\n",
        "  bc:float = math.sqrt(ab**2 + ac**2)\n",
        "  print(f\"The length of bc (the hypotenuse) is: {bc}\")\n",
        "\n",
        "if __name__ == \"__main__\":\n",
        "  triangle()"
      ],
      "metadata": {
        "id": "T3o8nyH8FFdZ"
      },
      "execution_count": null,
      "outputs": []
    },
    {
      "cell_type": "code",
      "source": [
        "print(\"05_remainder_division\")\n",
        "\n",
        "# Python program to divide two numbers and show the result and remainder\n",
        "\n",
        "def reminder():\n",
        "  num1:int = int(input(\"Please enter an integer to be divided: \"))\n",
        "  num2:int = int(input(\"Please enter an integer to divide by: \"))\n",
        "  quotient:int = num1 // num2\n",
        "  remainder:int = num1 % num2\n",
        "  print(f\"The result of this division is {quotient} with a remainder of {remainder}\")\n",
        "\n",
        "if __name__ == \"__main__\":\n",
        "  reminder()"
      ],
      "metadata": {
        "id": "3Q1JIYbSIw1z"
      },
      "execution_count": null,
      "outputs": []
    },
    {
      "cell_type": "code",
      "source": [
        "import random\n",
        "print(\"06_rolldice\")\n",
        "\n",
        "\n",
        "def roll_dice():\n",
        "  die1:int = random.randint(1, 6)  # Random number between 1 and 6 for die 1\n",
        "  die2:int = random.randint(1, 6)\n",
        "  total:int = die1 + die2         # Calculate the total of the two dice\n",
        "  print(\"1st die: \" + str(die1))\n",
        "  print(\"2nd die: \" + str(die2))\n",
        "  print(f\"Sum of two dies: {total}\")\n",
        "\n",
        "if __name__ == \"__main__\":\n",
        "  roll_dice()\n",
        "\n"
      ],
      "metadata": {
        "id": "nQ3o4RJ6L4CW"
      },
      "execution_count": null,
      "outputs": []
    },
    {
      "cell_type": "code",
      "source": [
        "print(\"06_seconds_in_year\")\n",
        "\n",
        "days_in_year:int = 365\n",
        "hours_in_day:int = 24\n",
        "minutes_in_hour:int = 60\n",
        "seconds_in_minute:int = 60\n",
        "\n",
        "def seconds():\n",
        "  print(f\"There are {days_in_year * hours_in_day * minutes_in_hour * seconds_in_minute} seconds in a year.\")\n",
        "\n",
        "if __name__ == \"__main__\":\n",
        "  seconds()\n"
      ],
      "metadata": {
        "id": "IO_W0LhsNpkf"
      },
      "execution_count": null,
      "outputs": []
    },
    {
      "cell_type": "code",
      "source": [
        "print(\"07_tiny_mad_lib\")\n",
        "\n",
        "def mad_lib():\n",
        "   noun:str = str(input(\"Please type a noun and press enter: \"))\n",
        "   adjective:str = str(input(\"Please type an adjective and press enter: \"))\n",
        "   verb:str = str(input(\"Please type a verb and press enter: \"))\n",
        "   print(f\"Do you {verb} your {adjective} {noun}?\")\n",
        "\n",
        "if __name__ == \"__main__\":\n",
        "  mad_lib()\n"
      ],
      "metadata": {
        "id": "xrrGsqggPhit"
      },
      "execution_count": null,
      "outputs": []
    }
  ]
}