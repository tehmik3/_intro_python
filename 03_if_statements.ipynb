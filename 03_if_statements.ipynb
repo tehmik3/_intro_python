{
  "nbformat": 4,
  "nbformat_minor": 0,
  "metadata": {
    "colab": {
      "private_outputs": true,
      "provenance": [],
      "authorship_tag": "ABX9TyO44O0nmyXyTqKLtOmMdDYx",
      "include_colab_link": true
    },
    "kernelspec": {
      "name": "python3",
      "display_name": "Python 3"
    },
    "language_info": {
      "name": "python"
    }
  },
  "cells": [
    {
      "cell_type": "markdown",
      "metadata": {
        "id": "view-in-github",
        "colab_type": "text"
      },
      "source": [
        "<a href=\"https://colab.research.google.com/github/tehmik3/_intro_python/blob/main/03_if_statements.ipynb\" target=\"_parent\"><img src=\"https://colab.research.google.com/assets/colab-badge.svg\" alt=\"Open In Colab\"/></a>"
      ]
    },
    {
      "cell_type": "code",
      "execution_count": null,
      "metadata": {
        "id": "-RW6wOjka4q2"
      },
      "outputs": [],
      "source": [
        "print(\"01_print_events\")\n",
        "\n",
        "def even():\n",
        "  for i in range(40):\n",
        "    print(\"Here is 20  even numbers are: \", i * 2)\n",
        "\n",
        "if __name__ == \"__main__\":\n",
        "  even()"
      ]
    },
    {
      "cell_type": "code",
      "source": [
        "print(\"02_international_voting_age\")\n",
        "\n",
        "PETURKSBOUIPO_AGE:int = 16\n",
        "STANLAU_AGE:int = 25\n",
        "MAYENGUA_AGE : int = 48\n",
        "age:int = int(input(\"How old are you? \"))\n",
        "\n",
        "def main():\n",
        "  if age >= PETURKSBOUIPO_AGE:\n",
        "    print(f\"Your age is {age}-You are eligible to vote in PETURKSBOUIPO!\")\n",
        "  else:\n",
        "    print(f\"Your age is {age}-You are not eligible to vote PETURKSBOUIPO!\")\n",
        "\n",
        "  if age >= STANLAU_AGE:\n",
        "    print(f\"Your age is {age}-You are eligible to vote in STANLAU!\")\n",
        "  else:\n",
        "    print(f\"Your age is {age}-You are not eligible to vote STANLAU!\")\n",
        "\n",
        "  if age >= MAYENGUA_AGE:\n",
        "    print(f\"Your age is {age}-You are eligible to vote in MAYENGUA!\")\n",
        "  else:\n",
        "    print(f\"Your age is {age}-You are not eligible to vote MAYENGUA!\")\n",
        "\n",
        "\n",
        "if __name__ == \"__main__\":\n",
        "  main()"
      ],
      "metadata": {
        "id": "SjiB0JIoeFUH"
      },
      "execution_count": null,
      "outputs": []
    },
    {
      "cell_type": "code",
      "source": [
        "print(\"03_leap_year\")\n",
        "\n",
        "def leap_year():\n",
        "  year:int = int(input(\"Enter a year: \"))\n",
        "  if year % 4 == 0:\n",
        "    if year % 100 == 0:\n",
        "      if year % 400 == 0:\n",
        "        print(f\"{year} is a leap year\")\n",
        "      else:\n",
        "        print(f\"{year} is not a leap year\")\n",
        "    else:\n",
        "      print(f\"{year} is a leap year\")\n",
        "  else:\n",
        "    print(f\"{year} is not a leap year\")\n",
        "\n",
        "if __name__ == \"__main__\":\n",
        "  leap_year()\n",
        "\n",
        "\n"
      ],
      "metadata": {
        "id": "wQRGt8z8kiXq"
      },
      "execution_count": null,
      "outputs": []
    },
    {
      "cell_type": "code",
      "source": [
        "print(\"04_tall_enough_to_ride\")\n",
        "\n",
        "MIN_HEIGHT:int = 50\n",
        "def check_height():\n",
        "    user:int = int(input(\"How tall are you? \"))\n",
        "    if user >= MIN_HEIGHT:\n",
        "        print(\"You are tall enough to ride!\")\n",
        "    else:\n",
        "        print(\"You are not tall enough to ride.May be next year.\")\n",
        "\n",
        "if __name__ == \"__main__\":\n",
        "    check_height()"
      ],
      "metadata": {
        "id": "azZwiAwdvKHv"
      },
      "execution_count": null,
      "outputs": []
    },
    {
      "cell_type": "code",
      "source": [
        "print(\"05_random_numbers\")\n",
        "import random\n",
        "\n",
        "def main():\n",
        "  for i in range(10):\n",
        "    num:list[int] = random.randint(1,100)\n",
        "    print(num)\n",
        "\n",
        "if __name__ == \"__main__\":\n",
        "  main()\n",
        "\n"
      ],
      "metadata": {
        "id": "mMunlW-Tw7N7"
      },
      "execution_count": null,
      "outputs": []
    }
  ]
}