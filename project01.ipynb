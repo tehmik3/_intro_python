{
  "nbformat": 4,
  "nbformat_minor": 0,
  "metadata": {
    "colab": {
      "private_outputs": true,
      "provenance": [],
      "authorship_tag": "ABX9TyOlaNi4OBY/YezhbO1gQjEk",
      "include_colab_link": true
    },
    "kernelspec": {
      "name": "python3",
      "display_name": "Python 3"
    },
    "language_info": {
      "name": "python"
    }
  },
  "cells": [
    {
      "cell_type": "markdown",
      "metadata": {
        "id": "view-in-github",
        "colab_type": "text"
      },
      "source": [
        "<a href=\"https://colab.research.google.com/github/tehmik3/_intro_python/blob/main/project01.ipynb\" target=\"_parent\"><img src=\"https://colab.research.google.com/assets/colab-badge.svg\" alt=\"Open In Colab\"/></a>"
      ]
    },
    {
      "cell_type": "code",
      "execution_count": null,
      "metadata": {
        "id": "l5Ij1GtidHaj"
      },
      "outputs": [],
      "source": [
        "print(\"01_add_two_numbers\")\n",
        "# Python program to calculate the sum of two integers\n",
        "\n",
        "# Taking input from the user\n",
        "def add():\n",
        "  num1 = int(input(\"Enter the first integer: \"))\n",
        "  num2 = int(input(\"Enter the second integer: \"))\n",
        "# Calculating the sum\n",
        "  sum_of_numbers = num1 + num2\n",
        "\n",
        "# Displaying the result\n",
        "  print(\"The sum of\", num1, \"and\", num2, \"is:\", sum_of_numbers)\n",
        "\n",
        "if __name__ == \"__main__\":\n",
        "  add()"
      ]
    },
    {
      "cell_type": "code",
      "source": [
        "print(\"agreement_bot\")\n",
        "# Python program to respond with a favorite animal\n",
        "\n",
        "# Ask the user for their favorite animal\n",
        "def bot():\n",
        "  animal = input(\"What is your favorite animal? \")\n",
        "# Respond with the same animal\n",
        "  print(\"My favourite animal is also\", animal +\"!\")\n",
        "  return animal\n",
        "\n",
        "  # Run the program\n",
        "if __name__ == \"__main__\":\n",
        "  bot()\n",
        "\n",
        "\n",
        "\n",
        "\n"
      ],
      "metadata": {
        "id": "yRCmok6Gehmn"
      },
      "execution_count": null,
      "outputs": []
    },
    {
      "cell_type": "code",
      "source": [
        "print(\"03_fahrenheit_to_celsius\")\n",
        "# python program to convert Fahrenheit to Celsius\n",
        "\n",
        "def temp():\n",
        "  print(\"Thi code is Convert the temperature to Celsius\")\n",
        "  Fahrenheit = float(input(\"Enter the temperature in Fahrenheit: \"))\n",
        "  Celsius = (Fahrenheit - 32) * 5.0/9.0\n",
        "  print(\"The temperature in Celsius is:\", Celsius)\n",
        "\n",
        "if __name__ == \"__main__\":\n",
        "  temp()"
      ],
      "metadata": {
        "id": "AmAK0WeJkwSD"
      },
      "execution_count": null,
      "outputs": []
    },
    {
      "cell_type": "code",
      "source": [
        "print(\"04_how_old_are_they?\")\n",
        "# Storing ages in variables\n",
        "\n",
        "def add_ages():\n",
        "  anton:int = 21\n",
        "  beth:int= anton + 6\n",
        "  chen:int = beth + 20\n",
        "  drew:int = chen + anton\n",
        "  ethan:int = chen\n",
        "\n",
        "# Printing the names and ages\n",
        "  print(\"Anton is\", anton, \"years old\")\n",
        "  print(\"Beth is\", beth, \"years old\")\n",
        "  print(\"Chen is\", chen, \"years old\")\n",
        "  print(\"Drew is\", drew, \"years old\")\n",
        "  print(\"Ethan is\", ethan, \"years old\")\n",
        "\n",
        "if __name__ == \"__main__\":\n",
        "  add_ages()\n"
      ],
      "metadata": {
        "id": "eNnD_novmbFj"
      },
      "execution_count": null,
      "outputs": []
    },
    {
      "cell_type": "code",
      "source": [
        "print(\"05_triangle_perimeter\")\n",
        "\n",
        "# the user to enter the lengths of each side of a triangle\n",
        "def triangle():\n",
        "   side1:float = float(input(\"Enter the length of first side: \"))\n",
        "   side2:float = float(input(\"Enter the length of second side: \"))\n",
        "   side3:float = float(input(\"Enter the length o third side: \"))\n",
        "   total_perimeter:float = side1 +side2 + side3\n",
        "  # Calculate the perimeter of the triangle\n",
        "   print(\"The perimeter of the triangle is:\", total_perimeter)\n",
        "\n",
        "if __name__ == \"__main__\":\n",
        "  triangle()\n",
        "\n"
      ],
      "metadata": {
        "id": "BOKX6nzurC-J"
      },
      "execution_count": null,
      "outputs": []
    },
    {
      "cell_type": "code",
      "source": [
        "print(\"06_square_number\")\n",
        "# Ask the user to input a number\n",
        "def square_number():\n",
        "  number = int(input(\"Enter a Number: \"))\n",
        "  square = number * number\n",
        "  print(f\"{number} squared is {square}\")\n",
        "\n",
        "if __name__ == \"__main__\":\n",
        "  square_number()"
      ],
      "metadata": {
        "id": "o5Mu2COJthF3"
      },
      "execution_count": null,
      "outputs": []
    }
  ]
}