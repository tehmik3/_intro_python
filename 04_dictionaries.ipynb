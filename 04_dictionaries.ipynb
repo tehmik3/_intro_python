{
  "nbformat": 4,
  "nbformat_minor": 0,
  "metadata": {
    "colab": {
      "private_outputs": true,
      "provenance": [],
      "authorship_tag": "ABX9TyMvQbF7baekZ+BZIUWx+yWF",
      "include_colab_link": true
    },
    "kernelspec": {
      "name": "python3",
      "display_name": "Python 3"
    },
    "language_info": {
      "name": "python"
    }
  },
  "cells": [
    {
      "cell_type": "markdown",
      "metadata": {
        "id": "view-in-github",
        "colab_type": "text"
      },
      "source": [
        "<a href=\"https://colab.research.google.com/github/tehmik3/_intro_python/blob/main/04_dictionaries.ipynb\" target=\"_parent\"><img src=\"https://colab.research.google.com/assets/colab-badge.svg\" alt=\"Open In Colab\"/></a>"
      ]
    },
    {
      "cell_type": "code",
      "source": [
        "print(\"00_count_nums\")\n",
        "\n",
        "def count_nums():\n",
        "  count_dict = {}\n",
        "  while True:\n",
        "    user_input = input(\"Enter a number for ('Exit to quit): \")\n",
        "    if user_input.title() == \"Exit\":\n",
        "      break\n",
        "    if user_input.isdigit():\n",
        "      num = int(user_input)\n",
        "      count_dict[num] = count_dict.get(num, 0) + 1\n",
        "    else:\n",
        "      print(\"Invalid input. Please enter a number or 'Exit'. \")\n",
        "  return count_dict22\n",
        "\n",
        "def display_counts(count_dict):\n",
        "  print(\"\\n Number counts:\")\n",
        "  for key, value in count_dict.items():\n",
        "    print(f\"{key} appears {value} times\")\n",
        "\n",
        "if __name__ == \"__main__\":\n",
        "  counts =count_nums()\n",
        "  display_counts(counts)\n",
        "\n",
        "\n"
      ],
      "metadata": {
        "id": "9uvuleR_RAJq"
      },
      "execution_count": null,
      "outputs": []
    },
    {
      "cell_type": "code",
      "source": [
        "print(\"01_phonebook\")\n",
        "\n",
        "def add_contact(phonebook):\n",
        "  name = input(\"Enter contact's name: \")\n",
        "  number = input(\"Enter contact's number: \")\n",
        "\n",
        "\n",
        "  if name in phonebook:\n",
        "    print(f\"{name} already exsit in phonebook.\")\n",
        "  else:\n",
        "    phonebook[name] = number\n",
        "    print(f\"{name} added to phonebook.\")\n",
        "\n",
        "def search_contact(phonebook):\n",
        "  name = input(\"Enter contact name to search: \")\n",
        "\n",
        "  if name in phonebook:\n",
        "    print(f\"{name}'s number is {phonebook[name]}\")\n",
        "  else:\n",
        "    print(f\"{name} not found in phonebook. \")\n",
        "\n",
        "def delete_contact(phonebook):\n",
        "  name = input(\"Enter contact name to delete: \")\n",
        "  if name in phonebook:\n",
        "    del phonebook[name]\n",
        "    print(f\"{name} deleted from phoneook.\")\n",
        "  else:\n",
        "    print(f\"{name} not found in phonebook.\")\n",
        "\n",
        "\n",
        "def display_phonebook(phonebook):\n",
        "  print(\"\\n Phonebook:\")\n",
        "  for name, number in phonebook.items():\n",
        "    print(f\"{name}: {number}\")\n",
        "  else:\n",
        "    print(\"Phonebook is empty.\")\n",
        "\n",
        "if __name__ == \"__main__\":\n",
        "  phonebook = {}\n",
        "\n",
        "  while True:\n",
        "    print(\"\\n Phonebook Menu:\")\n",
        "    print(\"1. Add contact\")\n",
        "    print(\"2. Search contact\")\n",
        "    print(\"3. Delete contact\")\n",
        "    print(\"4. Display phonebook\")\n",
        "    print(\"5. Exit\")\n",
        "    choice = input(\"Enter your choice (1-5): \")\n",
        "    if choice == \"1\":\n",
        "      add_contact(phonebook)\n",
        "    elif choice == \"2\":\n",
        "      search_contact(phonebook)\n",
        "    elif choice == \"3\":\n",
        "      delete_contact(phonebook)\n",
        "    elif choice == \"4\":\n",
        "      display_phonebook(phonebook)\n",
        "    elif choice == \"5\":\n",
        "      print(\"Exiting phonebook. Goodbye!\")\n",
        "      break\n",
        "    else:\n",
        "      print(\"Invalid choice. Please enter a number between 1 and 5.\")\n"
      ],
      "metadata": {
        "id": "1lSbxkMiWbsR"
      },
      "execution_count": null,
      "outputs": []
    },
    {
      "cell_type": "code",
      "source": [
        "print(\"02_pop_up_shop\")\n",
        "\n",
        "def total_cost():\n",
        "  fruits_price = {\n",
        "    \"apple\": 2.5,\n",
        "    \"durian\": 5.0,\n",
        "    \"jackfruit\": 3.0,\n",
        "    \"kiwi\": 12.5,\n",
        "    \"rambutan\": 4.0,\n",
        "    \"mango\": 15.0\n",
        "}\n",
        "  total_cost = 0\n",
        "\n",
        "  for fruit, price in fruits_price.items():\n",
        "    while True:\n",
        "      try:\n",
        "        quantity = int(input(f\"How many {fruit} do you want? \"))\n",
        "        if quantity < 0:\n",
        "          print(\"Invalid input. Please enter a non-negative number.\")\n",
        "        else:\n",
        "          total_cost += price * quantity\n",
        "          break\n",
        "      except ValueError:\n",
        "        print(\"Invalid input. Please enter a number.\")\n",
        "\n",
        "  print(f\"Total cost: ${total_cost:.2f}\")\n",
        "\n",
        "if __name__ == \"__main__\":\n",
        "  total_cost()\n",
        "\n",
        "\n"
      ],
      "metadata": {
        "id": "PgnF5EmDbljw"
      },
      "execution_count": null,
      "outputs": []
    },
    {
      "cell_type": "code",
      "source": [
        "import hashlib\n",
        "print(\"03_powerful_passwords\")\n",
        "\n",
        "\n",
        "def hash_password(password):\n",
        "  return hashlib.sha256(password.encode()).hexdigest()\n",
        "\n",
        "\n",
        "stored_logins = {\n",
        "    \"user1@example.com\": hash_password(\"password123\"),\n",
        "    \"user2@example.com\": hash_password(\"securePassword!456\")\n",
        "}\n",
        "\n",
        "def login(email, password):\n",
        "  if email in stored_logins:\n",
        "    return stored_logins[email] == hash_password(password)\n",
        "  return False\n",
        "\n",
        "if __name__ == \"__main__\":\n",
        "  email = input(\"Enter your email: \")\n",
        "  password = input(\"Enter your password: \")\n",
        "\n",
        "  if login(email, password):\n",
        "    print(\"Login successful!\")\n",
        "  else:\n",
        "    print(\"Invalid email or password.\")\n",
        "\n"
      ],
      "metadata": {
        "id": "h68wvzFnhJ9y"
      },
      "execution_count": null,
      "outputs": []
    }
  ]
}