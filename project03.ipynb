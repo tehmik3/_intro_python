{
  "nbformat": 4,
  "nbformat_minor": 0,
  "metadata": {
    "colab": {
      "private_outputs": true,
      "provenance": [],
      "authorship_tag": "ABX9TyMjBC1bqRlqAasvWpFlKoKm",
      "include_colab_link": true
    },
    "kernelspec": {
      "name": "python3",
      "display_name": "Python 3"
    },
    "language_info": {
      "name": "python"
    }
  },
  "cells": [
    {
      "cell_type": "markdown",
      "metadata": {
        "id": "view-in-github",
        "colab_type": "text"
      },
      "source": [
        "<a href=\"https://colab.research.google.com/github/tehmik3/_intro_python/blob/main/project03.ipynb\" target=\"_parent\"><img src=\"https://colab.research.google.com/assets/colab-badge.svg\" alt=\"Open In Colab\"/></a>"
      ]
    },
    {
      "cell_type": "code",
      "execution_count": null,
      "metadata": {
        "id": "76GGPKOoTsNr"
      },
      "outputs": [],
      "source": [
        "print(\"01_add_many_number\")\n",
        "\n",
        "def sum_of_number(numbers)->int:\n",
        "  num:int = 0\n",
        "  for i in numbers:\n",
        "    num += i\n",
        "  return num\n",
        "\n",
        "\n",
        "def main():\n",
        "  numbers:list[int] = [1,2,3,4,5]\n",
        "  result = sum_of_number(numbers)\n",
        "  print(result)\n",
        "\n",
        "if __name__ == \"__main__\":\n",
        "  main()"
      ]
    },
    {
      "cell_type": "code",
      "source": [
        "print(\"02_double_list\")\n",
        "\n",
        "\n",
        "def main():\n",
        "  numbers:list[int] = [1,2,3,4,5]\n",
        "  for i in range(len(numbers)):\n",
        "    index = numbers[i]\n",
        "    numbers[i] = index * 2\n",
        "  print(numbers)\n",
        "\n",
        "if __name__ == \"__main__\":\n",
        "  main()\n",
        "\n",
        "\n"
      ],
      "metadata": {
        "id": "VbCu788WWMcl"
      },
      "execution_count": null,
      "outputs": []
    },
    {
      "cell_type": "code",
      "source": [
        "print(\"04_flowing_with_data_structures\")\n",
        "\n",
        "def add_three_copies(lst, data):\n",
        "    for i in range(3):\n",
        "      lst.append(data)\n",
        "\n",
        "\n",
        "def main():\n",
        "  message = input(\"Enter a message to copy: \")   # Get user input\n",
        "  lst = []\n",
        "  print(\"List before: \", lst)\n",
        "  add_three_copies(lst, message)\n",
        "  print(\"List after: \", lst)\n",
        "\n",
        "if __name__ == \"__main__\":\n",
        "  main()\n"
      ],
      "metadata": {
        "id": "Ur8lbF35X8vj"
      },
      "execution_count": null,
      "outputs": []
    },
    {
      "cell_type": "code",
      "source": [
        "print(\"05_get_first_element\")\n",
        "\n",
        "def get_first_element(lst):\n",
        "  print(lst[0])\n",
        "\n",
        "def get_lst():\n",
        "  lst = []\n",
        "  elem:str = input(\"Enter an element to add to the list: \")\n",
        "  while elem != \"\":\n",
        "    lst.append(elem)\n",
        "    elem = input(\"Enter an element to add to the list: \")\n",
        "  return lst\n",
        "\n",
        "def main():\n",
        "  lst = get_lst()\n",
        "  get_first_element(lst)\n",
        "\n",
        "if __name__ == \"__main__\":\n",
        "  main()\n"
      ],
      "metadata": {
        "id": "vpaaAN1ZaDTh"
      },
      "execution_count": null,
      "outputs": []
    },
    {
      "cell_type": "code",
      "source": [
        "print(\"06_get_last_element\")\n",
        "\n",
        "def get_last_element(lst):\n",
        "  print(lst[-1s])\n",
        "\n",
        "def get_lst():\n",
        "  lst = []\n",
        "  elem:str = input(\"Enter an element to add to the list: \")\n",
        "  while elem != \"\":\n",
        "    lst.append(elem)\n",
        "    elem = input(\"Enter an element to add to the list: \")\n",
        "  return lst\n",
        "\n",
        "def main():\n",
        "  lst = get_lst()\n",
        "  get_last_element(lst)\n",
        "\n",
        "if __name__ == \"__main__\":\n",
        "  main()"
      ],
      "metadata": {
        "id": "BXhdNPYGbjIC"
      },
      "execution_count": null,
      "outputs": []
    },
    {
      "cell_type": "code",
      "source": [
        "print(\"07_get_list\")\n",
        "\n",
        "\n",
        "def main():\n",
        "  lst = []\n",
        "  val = input(\"Enter a value to add to the list: \")\n",
        "  while val != \"\":\n",
        "    lst.append(val)\n",
        "    val = input(\"Enter a value to add to the list: \")\n",
        "  print(\"Her's the list: \",lst)\n",
        "\n",
        "if __name__ == \"__main__\":\n",
        "  main()\n"
      ],
      "metadata": {
        "id": "R0Z_n5Q3csIg"
      },
      "execution_count": null,
      "outputs": []
    },
    {
      "cell_type": "code",
      "source": [
        "print(\"08_shorten\")\n",
        "\n",
        "MAX_LENGTH:int = 3\n",
        "def shorten(lst):\n",
        "  while len(lst) > MAX_LENGTH:\n",
        "    last_element = lst.pop()\n",
        "    print(last_element)\n",
        "\n",
        "def get_lst():\n",
        "  lst = []\n",
        "  elem:str = input(\"Enter an element to add to the list: \")\n",
        "  while elem != \"\":\n",
        "    lst.append(elem)\n",
        "    elem:str = input(\"Enter an element to add to the list: \")\n",
        "  return lst\n",
        "\n",
        "def main():\n",
        "  lst = get_lst()\n",
        "  shorten(lst)\n",
        "\n",
        "if __name__ == \"__main__\":\n",
        "  main()\n"
      ],
      "metadata": {
        "id": "OEC0YOKBd0oS"
      },
      "execution_count": null,
      "outputs": []
    }
  ]
}